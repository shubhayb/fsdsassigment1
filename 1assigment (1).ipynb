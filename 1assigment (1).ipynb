{
 "cells": [
  {
   "cell_type": "code",
   "execution_count": 2,
   "id": "109c2dcc-d11a-4578-b6c4-6318c4b17f13",
   "metadata": {},
   "outputs": [],
   "source": [
    "# 1. In the below elements which of them are values or an expression? \n",
    "#eg:- values can be integer or string and expressions will be mathematical operators.\n",
    "#ANSWER:   * is an Expression( for multiplication)\n",
    "#          'hello' is a String\n",
    "#          -87.8 it's a float\n",
    "#         - is a expression ( for substraction) negative symbel\n",
    "#         / is  is a Expression for divission\n",
    "#         + is a expression for addition  and also  for string it is concodination\n",
    "#         6 is integer"
   ]
  },
  {
   "cell_type": "code",
   "execution_count": null,
   "id": "f3332b97-05fb-4269-afca-6ce86da743ae",
   "metadata": {},
   "outputs": [],
   "source": [
    "# 2. What is the difference between string and variable?\n",
    "#ANWER:     A Variable is a store of information, and a String is a type of information you would store in a Variable. \n",
    "#           A String is usually words, enclosed with \" \". \n",
    "#           Eg:String x =\"Welcome to SoloLearn\" X is the Variable, \n",
    "#           and we declared it as a String, use the single = to assign the text to it."
   ]
  },
  {
   "cell_type": "code",
   "execution_count": null,
   "id": "ad096c7a-1883-44b0-aecc-04a4a11e8c9f",
   "metadata": {},
   "outputs": [],
   "source": [
    "# 3. Describe three different data types.\n",
    "# ANSWER:  booleans, integers, strings"
   ]
  },
  {
   "cell_type": "code",
   "execution_count": 3,
   "id": "6760e19e-c0bf-40e5-a334-b47a931e1357",
   "metadata": {},
   "outputs": [],
   "source": [
    "# 4. What is an expression made up of? What do all expressions do?\n",
    "# ANSWER: An expression is a combination of operators and operands that is interpreted to produce some other value.\n",
    "#          In any programming language, an expression is evaluated as per the precedence of its operators.\n",
    "#          An expression is a construct made up of variables, operators, and method invocations,\n",
    "#          which are constructed according to the syntax of the language, that evaluates to a single value.\n"
   ]
  },
  {
   "cell_type": "code",
   "execution_count": null,
   "id": "4359ec85-f4e1-4677-98a0-dfe738fcfc52",
   "metadata": {},
   "outputs": [],
   "source": [
    "# 5. This assignment statements, like spam = 10. What is the difference between an expression and a statement?\n",
    "# ANSWER : An expression is a combination of values and operators. \n",
    "#           All expressions evaluate (that is, reduce) to a single value.\n",
    "#           An expression evaluates to a single value. A statement does not."
   ]
  },
  {
   "cell_type": "code",
   "execution_count": 24,
   "id": "7a24c2c5-b1a2-4c5b-8960-de10df846baf",
   "metadata": {},
   "outputs": [],
   "source": [
    "# 6. After running the following code, what does the variable bacon contain?\n",
    " #bacon = 22\n",
    " #bacon + 1\n",
    "# ANSWRE:   The bacon variable is set to 20. The bacon + 1 expression does not reassign the value in bacon\n",
    "#             (that would need an assignment statement: bacon = bacon + 1)"
   ]
  },
  {
   "cell_type": "code",
   "execution_count": 9,
   "id": "4445ea62-92bd-4bf6-a9ff-e41070e904ec",
   "metadata": {},
   "outputs": [
    {
     "name": "stdout",
     "output_type": "stream",
     "text": [
      "spanspanspan\n",
      "span*3\n"
     ]
    }
   ],
   "source": [
    "# 7. What should the values of the following two terms be?\n",
    "#39;spam&#39; + &#39;spamspam&#39;\n",
    "#39;spam&#39; * 3\n",
    "# ANSWRE:  Both expressions evaluate to the string 'spamspamspam'\n",
    "a=\"span\"\n",
    "b=\"spanspan\"\n",
    "a+b\n",
    "print(a+b)\n",
    "c=\"*3\"\n",
    "print(a+c)"
   ]
  },
  {
   "cell_type": "code",
   "execution_count": null,
   "id": "d61e2db2-5c17-4b87-bcb4-a9843fc9cba0",
   "metadata": {},
   "outputs": [],
   "source": [
    "# 8. Why is eggs a valid variable name while 100 is invalid?\n",
    "# ANSWRE:eggs is Variable.100 is not a variable it's a int.Variable names cannot begin with a number."
   ]
  },
  {
   "cell_type": "code",
   "execution_count": null,
   "id": "782cef13-8b5d-43c7-8924-4bd98da98e21",
   "metadata": {},
   "outputs": [],
   "source": [
    "# 9. What three functions can be used to get the integer, floating-point number, or string version of a value?\n",
    "# ANSWRE: The int(), float(), and str() \n",
    "#         functions will evaluate to the integer, floating-point number, and string versions of the value passed to them."
   ]
  },
  {
   "cell_type": "code",
   "execution_count": 13,
   "id": "490ba86e-5b53-4a64-82ae-03646e80ae21",
   "metadata": {},
   "outputs": [
    {
     "name": "stdout",
     "output_type": "stream",
     "text": [
      "I have eaten 99 burritos\n"
     ]
    }
   ],
   "source": [
    "# 10. Why does this expression cause an error? How can you fix it?\n",
    "# 'I have eaten'  + 99 +'burritos'\n",
    "#ANSWER: The expression causes an error because 99 is an integer, \n",
    "#         and only strings can be concatenated to other strings with the + operator.\n",
    "#         The correct way is I have eaten ' + str(99) + ' burritos.'.\n",
    "\n",
    "a=\"I have eaten \"\n",
    "b=str(99)\n",
    "c=\" burritos\"\n",
    "a+b+c\n",
    "print(a + b + c)"
   ]
  },
  {
   "cell_type": "code",
   "execution_count": null,
   "id": "42ffd89c-036e-4173-ac67-d5c928566145",
   "metadata": {},
   "outputs": [],
   "source": []
  }
 ],
 "metadata": {
  "kernelspec": {
   "display_name": "Python 3 (ipykernel)",
   "language": "python",
   "name": "python3"
  },
  "language_info": {
   "codemirror_mode": {
    "name": "ipython",
    "version": 3
   },
   "file_extension": ".py",
   "mimetype": "text/x-python",
   "name": "python",
   "nbconvert_exporter": "python",
   "pygments_lexer": "ipython3",
   "version": "3.10.6"
  }
 },
 "nbformat": 4,
 "nbformat_minor": 5
}
