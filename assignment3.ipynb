{
 "cells": [
  {
   "cell_type": "code",
   "execution_count": 1,
   "id": "e23fd87f-631b-4419-b628-5dfc0ad504a2",
   "metadata": {},
   "outputs": [],
   "source": [
    "#Q1. Why are functions advantageous to have in your programs?\n",
    "# Answre:Functions reduce the need for duplicate code. This makes programs shorter, easier to read, and easier to update."
   ]
  },
  {
   "cell_type": "code",
   "execution_count": 2,
   "id": "c43f8b93-b78c-4fa1-8bc5-846f4d5395de",
   "metadata": {},
   "outputs": [],
   "source": [
    "# Q2. When does the code in a function run: when it's specified or when it's called?\n",
    "#Answer : The code in a function executes when the function is called, not when the function is defined.\n"
   ]
  },
  {
   "cell_type": "code",
   "execution_count": 3,
   "id": "aa420cfd-bdd6-491f-bd44-3e9aa85a8315",
   "metadata": {},
   "outputs": [],
   "source": [
    "# 3. What statement creates a function?\n",
    "#Answer : define a function with the def keyword, then write the function identifier (name) followed by parentheses and a colon"
   ]
  },
  {
   "cell_type": "code",
   "execution_count": 4,
   "id": "021506b9-ce62-41f3-aa30-879695843676",
   "metadata": {},
   "outputs": [],
   "source": [
    "# 4. What is the difference between a function and a function call?\n",
    "# Answer :A function is a block of code that does a particular operation and returns a result. \n",
    "  # It usually accepts inputs as parameters and returns a result. The parameters are not mandatory. \n",
    "  # A function call is the code used to pass control to a function."
   ]
  },
  {
   "cell_type": "code",
   "execution_count": 5,
   "id": "9f0d4db9-b292-4610-b93c-0909c55089a5",
   "metadata": {},
   "outputs": [],
   "source": [
    "# 5. How many global scopes are there in a Python program? How many local scopes?\n",
    "# Answer : There is one global scope, and a local scope is created whenever a function is called."
   ]
  },
  {
   "cell_type": "code",
   "execution_count": 6,
   "id": "259a1b85-8212-4eb4-9816-b2b2e97e32e9",
   "metadata": {},
   "outputs": [],
   "source": [
    "# 6. What happens to variables in a local scope when the function call returns?\n",
    "# Answer : When a function returns, the local scope is destroyed, and all the variables in it are forgotten"
   ]
  },
  {
   "cell_type": "code",
   "execution_count": 7,
   "id": "49c0f91f-66bd-4377-a9cc-0f546912ed90",
   "metadata": {},
   "outputs": [],
   "source": [
    "# 7. What is the concept of a return value? Is it possible to have a return value in an expression?\n",
    "# Answer : A return value is the value that a function call evaluates to. Like any value, a return value can be used as part of an expression."
   ]
  },
  {
   "cell_type": "code",
   "execution_count": 8,
   "id": "300b0302-4bdd-4652-bdf5-425f0fb3a9ed",
   "metadata": {},
   "outputs": [],
   "source": [
    "# 8. If a function does not have a return statement, what is the return value of a call to that function?\n",
    "# Answer : If there is no return statement for a function, its return value is None."
   ]
  },
  {
   "cell_type": "code",
   "execution_count": 10,
   "id": "36a103b6-8762-49a2-88db-9c8d2e5d6dd8",
   "metadata": {},
   "outputs": [],
   "source": [
    "# 9. How do you make a function variable refer to the global variable?\n",
    "# Answer : when you create a variable inside a function, that variable is local, and can only be used inside that function. \n",
    " #To create a global variable inside a function, you can use the global keyword.\n",
    " #A global statement will force a variable in a function to refer to the global variable."
   ]
  },
  {
   "cell_type": "code",
   "execution_count": 12,
   "id": "4272ab1c-85f5-443b-a035-b1f455ef92b8",
   "metadata": {},
   "outputs": [],
   "source": [
    "# 10. What is the data type of None?\n",
    "# Answer : The data type of None is NoneType."
   ]
  },
  {
   "cell_type": "code",
   "execution_count": 13,
   "id": "42c90072-be6e-4ed6-8683-e20c9df516ea",
   "metadata": {},
   "outputs": [],
   "source": [
    "# 11. What does the sentence import areallyourpetsnamederic do?\n",
    "# Answer : That import statement imports a module named areallyourpetsnamederic"
   ]
  },
  {
   "cell_type": "code",
   "execution_count": 14,
   "id": "654b035c-19d3-44d8-8a17-fc56ec082869",
   "metadata": {},
   "outputs": [],
   "source": [
    "# 12. If you had a bacon() feature in a spam module, what would you call it after importing spam?\n",
    "#Answer : This function can be called with spam.bacon()."
   ]
  },
  {
   "cell_type": "code",
   "execution_count": 15,
   "id": "59afbce3-5b33-4e91-9699-0d4f79603fbc",
   "metadata": {},
   "outputs": [],
   "source": [
    "# 13. What can you do to save a programme from crashing if it encounters an error?\n",
    "# Answer : Place the line of code that might cause an error in a try clause"
   ]
  },
  {
   "cell_type": "code",
   "execution_count": null,
   "id": "a9ac5ec9-6c63-438a-851f-fab2b401d43e",
   "metadata": {},
   "outputs": [],
   "source": [
    "# "
   ]
  }
 ],
 "metadata": {
  "kernelspec": {
   "display_name": "Python 3 (ipykernel)",
   "language": "python",
   "name": "python3"
  },
  "language_info": {
   "codemirror_mode": {
    "name": "ipython",
    "version": 3
   },
   "file_extension": ".py",
   "mimetype": "text/x-python",
   "name": "python",
   "nbconvert_exporter": "python",
   "pygments_lexer": "ipython3",
   "version": "3.10.6"
  }
 },
 "nbformat": 4,
 "nbformat_minor": 5
}
